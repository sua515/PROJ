{
 "cells": [
  {
   "cell_type": "code",
   "execution_count": 1,
   "metadata": {},
   "outputs": [
    {
     "name": "stdout",
     "output_type": "stream",
     "text": [
      "Requirement already satisfied: webdriver_manager in c:\\users\\user\\proj_hsa\\venv\\lib\\site-packages (4.0.1)\n",
      "Requirement already satisfied: requests in c:\\users\\user\\proj_hsa\\venv\\lib\\site-packages (from webdriver_manager) (2.28.2)\n",
      "Requirement already satisfied: python-dotenv in c:\\users\\user\\proj_hsa\\venv\\lib\\site-packages (from webdriver_manager) (1.0.1)\n",
      "Requirement already satisfied: packaging in c:\\users\\user\\proj_hsa\\venv\\lib\\site-packages (from webdriver_manager) (24.0)\n",
      "Requirement already satisfied: idna<4,>=2.5 in c:\\users\\user\\proj_hsa\\venv\\lib\\site-packages (from requests->webdriver_manager) (3.7)\n",
      "Requirement already satisfied: urllib3<1.27,>=1.21.1 in c:\\users\\user\\proj_hsa\\venv\\lib\\site-packages (from requests->webdriver_manager) (1.26.18)\n",
      "Requirement already satisfied: charset-normalizer<4,>=2 in c:\\users\\user\\proj_hsa\\venv\\lib\\site-packages (from requests->webdriver_manager) (3.3.2)\n",
      "Requirement already satisfied: certifi>=2017.4.17 in c:\\users\\user\\proj_hsa\\venv\\lib\\site-packages (from requests->webdriver_manager) (2024.2.2)\n",
      "Note: you may need to restart the kernel to use updated packages.\n"
     ]
    },
    {
     "name": "stderr",
     "output_type": "stream",
     "text": [
      "WARNING: You are using pip version 21.1.3; however, version 24.0 is available.\n",
      "You should consider upgrading via the 'c:\\Users\\USER\\Proj_HSA\\venv\\Scripts\\python.exe -m pip install --upgrade pip' command.\n"
     ]
    }
   ],
   "source": [
    "# 셀레니움으로 브라우저를 제어하기. \n",
    "# 브라우저 = 창\n",
    "\n",
    "%pip install webdriver_manager"
   ]
  },
  {
   "cell_type": "code",
   "execution_count": 2,
   "metadata": {},
   "outputs": [
    {
     "name": "stdout",
     "output_type": "stream",
     "text": [
      "Requirement already satisfied: user_agent in c:\\users\\user\\proj_hsa\\venv\\lib\\site-packages (0.1.10)\n",
      "Requirement already satisfied: six in c:\\users\\user\\proj_hsa\\venv\\lib\\site-packages (from user_agent) (1.16.0)\n",
      "Note: you may need to restart the kernel to use updated packages.\n"
     ]
    },
    {
     "name": "stderr",
     "output_type": "stream",
     "text": [
      "WARNING: You are using pip version 21.1.3; however, version 24.0 is available.\n",
      "You should consider upgrading via the 'c:\\Users\\USER\\Proj_HSA\\venv\\Scripts\\python.exe -m pip install --upgrade pip' command.\n"
     ]
    }
   ],
   "source": [
    "%pip install user_agent"
   ]
  },
  {
   "cell_type": "code",
   "execution_count": 3,
   "metadata": {},
   "outputs": [],
   "source": [
    "from selenium import webdriver ## 브라우저를 제어하기 위한 모듈\n",
    "from webdriver_manager.chrome import ChromeDriverManager ## 크롬 드라이버를 자동으로 설치해주는 모듈\n",
    "from selenium.webdriver.chrome.service import Service as ChromeService ## 크롬 브라우저 제어\n",
    "from selenium.webdriver.support.wait import WebDriverWait ## 웹 페이지가 로딩될 때까지 대기하기 위한 모듈\n",
    "from selenium.webdriver.support import expected_conditions as EC ## 대기 조건을 설정하기 위한 모듈\n",
    "from selenium.webdriver.common.by import By ## 웹 요소를 선택하기 위한 모듈\n",
    "from selenium.webdriver.common.keys import Keys ## 키보드 입력을 위한 모듈\n",
    "\n",
    "## 크롬 옵션을 설정하기 위한 모듈\n",
    "options = webdriver.ChromeOptions()\n",
    "\n",
    "driver = webdriver.Chrome(\n",
    "    service=ChromeService(ChromeDriverManager().install()), options=options\n",
    ") ## 크롬드라이버를 설치하고 옵션을 적용하여 실행"
   ]
  },
  {
   "cell_type": "code",
   "execution_count": 4,
   "metadata": {},
   "outputs": [],
   "source": [
    "## user-agent 확인\n",
    "driver.get(\"https://www.whatismybrowser.com/detect/what-is-my-user-agent\")\n",
    "# 내가 접속한 pc의 user agent가 뭘 의미하는지 알려주는 창"
   ]
  },
  {
   "cell_type": "code",
   "execution_count": 5,
   "metadata": {},
   "outputs": [],
   "source": [
    "# driver.quit() ## 브라우저 종료"
   ]
  },
  {
   "cell_type": "markdown",
   "metadata": {},
   "source": [
    "## User-Agent옵션 변경"
   ]
  },
  {
   "cell_type": "code",
   "execution_count": 6,
   "metadata": {},
   "outputs": [
    {
     "data": {
      "text/plain": [
       "'Mozilla/5.0 (Macintosh; Intel Mac OS X 10.9; rv:51.0) Gecko/20100101 Firefox/51.0'"
      ]
     },
     "execution_count": 6,
     "metadata": {},
     "output_type": "execute_result"
    }
   ],
   "source": [
    "from user_agent import generate_user_agent, generate_navigator\n",
    "user_agent = generate_user_agent()\n",
    "user_agent"
   ]
  },
  {
   "cell_type": "code",
   "execution_count": 7,
   "metadata": {},
   "outputs": [],
   "source": [
    "# 차단 우회하는 방법 중 하나\n",
    "options = webdriver.ChromeOptions()\n",
    "options.add_argument(\n",
    "    f\"user-agent={user_agent}\"\n",
    ") ## 가짜 User-Agent 실행 \n",
    "driver = webdriver.Chrome(\n",
    "    service=ChromeService(ChromeDriverManager().install()), options=options\n",
    ") ## 크롬드라이버를 설치하고 옵션을 적용하여 실행\n",
    "driver.get(\"https://www.whatismybrowser.com/detect/what-is-my-user-agent\")"
   ]
  },
  {
   "cell_type": "code",
   "execution_count": 1,
   "metadata": {},
   "outputs": [
    {
     "data": {
      "text/plain": [
       "'c:\\\\Users\\\\USER\\\\Proj_HSA'"
      ]
     },
     "execution_count": 1,
     "metadata": {},
     "output_type": "execute_result"
    }
   ],
   "source": [
    "%pwd"
   ]
  },
  {
   "cell_type": "markdown",
   "metadata": {},
   "source": [
    "## Ch1. 구글로 접속하기"
   ]
  },
  {
   "cell_type": "code",
   "execution_count": 8,
   "metadata": {},
   "outputs": [
    {
     "name": "stdout",
     "output_type": "stream",
     "text": [
      "이번 User-Agent: Mozilla/5.0 (Macintosh; Intel Mac OS X 10.10; rv:47.0) Gecko/20100101 Firefox/47.0\n"
     ]
    }
   ],
   "source": [
    "from selenium import webdriver ## 브라우저를 제어하기 위한 모듈\n",
    "from webdriver_manager.chrome import ChromeDriverManager ## 크롬 드라이버를 자동으로 설치해주는 모듈\n",
    "from selenium.webdriver.chrome.service import Service as ChromeService ## 크롬 브라우저 제어\n",
    "from selenium.webdriver.support.wait import WebDriverWait ## 웹 페이지가 로딩될 때까지 대기하기 위한 모듈\n",
    "from selenium.webdriver.support import expected_conditions as EC ## 대기 조건을 설정하기 위한 모듈\n",
    "from selenium.webdriver.common.by import By ## 웹 요소를 선택하기 위한 모듈\n",
    "from selenium.webdriver.common.keys import Keys ## 키보드 입력을 위한 모듈\n",
    "from user_agent import generate_user_agent, generate_navigator\n",
    "user_agent = generate_user_agent()\n",
    "print(\"이번 User-Agent:\", user_agent)\n",
    "\n",
    "options = webdriver.ChromeOptions()\n",
    "\n",
    "## ✅ User-Agent가 변경될때마다 class명이 변경되는 경우가 있음\n",
    "## 가짜 User-Agent 실행 \n",
    "user_agent = '''Mozilla/5.0 (Windows NT 6.2; WOW64; rv:45.0) Gecko/20100101 Firefox/45.0'''\n",
    "options.add_argument(\n",
    "    f\"user-agent={user_agent}\"\n",
    ") \n",
    "\n",
    "\n",
    "driver = webdriver.Chrome(\n",
    "    service=ChromeService(ChromeDriverManager().install()), options=options\n",
    ") ## 크롬드라이버를 설치하고 옵션을 적용하여 실행\n",
    "driver.get(\"https://google.com\")"
   ]
  },
  {
   "cell_type": "code",
   "execution_count": 9,
   "metadata": {},
   "outputs": [],
   "source": [
    "# %pip list | grip pandas ## 버전 알려주는 코드"
   ]
  },
  {
   "cell_type": "markdown",
   "metadata": {},
   "source": [
    "### 검색창 클릭하기"
   ]
  },
  {
   "attachments": {
    "image.png": {
     "image/png": "[encoded data removed]"
    }
   },
   "cell_type": "markdown",
   "metadata": {},
   "source": [
    "f12 키패드 누르고\n",
    "![image.png](attachment:image.png)"
   ]
  },
  {
   "cell_type": "code",
   "execution_count": 10,
   "metadata": {},
   "outputs": [],
   "source": [
    "# 내가 찾은 path : /html/body/center/form/table/tbody/tr/td[2]/div/div/input\n",
    "\n",
    "### XPATH로 요소 찾기\n",
    "### 요소가 보일때까지 대기\n",
    "# 10초동안만 찾게\n",
    "waiting_searchbar = WebDriverWait(driver, 10).until(\n",
    "    EC.presence_of_element_located((By.XPATH, \"/html/body/center/form/table/tbody/tr/td[2]/div/div/input\"))\n",
    ")\n",
    "\n",
    "search_bar = driver.find_element(By.XPATH, \"/html/body/center/form/table/tbody/tr/td[2]/div/div/input\")"
   ]
  },
  {
   "cell_type": "code",
   "execution_count": 11,
   "metadata": {},
   "outputs": [
    {
     "data": {
      "text/plain": [
       "<selenium.webdriver.remote.webelement.WebElement (session=\"65d864569edbcdf5986658e881958bf4\", element=\"f.E6A425C825092B767CD39C244896D022.d.68078E32320CE46303DB80E4B28DFE49.e.4\")>"
      ]
     },
     "execution_count": 11,
     "metadata": {},
     "output_type": "execute_result"
    }
   ],
   "source": [
    "search_bar"
   ]
  },
  {
   "cell_type": "code",
   "execution_count": 12,
   "metadata": {},
   "outputs": [],
   "source": [
    "## 요소를 찾았으면 검색어 입력\n",
    "search_bar.send_keys(\"Python\")"
   ]
  },
  {
   "cell_type": "code",
   "execution_count": 13,
   "metadata": {},
   "outputs": [],
   "source": [
    "## 엔터키 입력\n",
    "search_bar.send_keys(Keys.ENTER)"
   ]
  },
  {
   "cell_type": "code",
   "execution_count": 14,
   "metadata": {},
   "outputs": [],
   "source": [
    "## 검색결과 페이지가 로딩될때까지 대기\n",
    "WebDriverWait(driver, 20).until(\n",
    "    EC.presence_of_element_located((By.CLASS_NAME, \"egMi0\"))\n",
    ")\n",
    "\n",
    "## 검색결과\n",
    "search_results = driver.find_elements(By.CLASS_NAME, \"egMi0\")"
   ]
  },
  {
   "cell_type": "code",
   "execution_count": 15,
   "metadata": {},
   "outputs": [
    {
     "data": {
      "text/plain": [
       "7"
      ]
     },
     "execution_count": 15,
     "metadata": {},
     "output_type": "execute_result"
    }
   ],
   "source": [
    "len(search_results)"
   ]
  },
  {
   "cell_type": "markdown",
   "metadata": {},
   "source": [
    "### Ch1-1. 데이터 파싱하기\n",
    "- WebElement : 웹페이지에 있는 요소를 의미함\n",
    "- https://selenium-python.readthedocs.io/"
   ]
  },
  {
   "cell_type": "code",
   "execution_count": 16,
   "metadata": {},
   "outputs": [
    {
     "name": "stdout",
     "output_type": "stream",
     "text": [
      "Title: Welcome to Python.org\n",
      "Title: Python - 나무위키\n",
      "Title: Python란 무엇인가요? - Python 언어 설명 - Amazon AWS\n",
      "Title: 1. 파이썬 시작하기 - 왕초보를 위한 Python: 쉽게 풀어 쓴 기초 문법과 ...\n",
      "Title: Python Tutorial - W3Schools\n",
      "Title: 파이썬 - 위키백과, 우리 모두의 백과사전\n",
      "Title: Get Started Tutorial for Python in Visual Studio Code\n"
     ]
    }
   ],
   "source": [
    "for idx, result in enumerate(search_results):\n",
    "    title = result.find_element(By.TAG_NAME, \"h3\")\n",
    "    \n",
    "    if title:\n",
    "        print(\"Title:\", title.text)\n",
    "    else:\n",
    "        print(\"Title: None\")"
   ]
  },
  {
   "cell_type": "markdown",
   "metadata": {},
   "source": [
    "### Ch1-2. 요소 리딩까지 대기하기"
   ]
  },
  {
   "cell_type": "code",
   "execution_count": 17,
   "metadata": {},
   "outputs": [
    {
     "data": {
      "text/plain": [
       "[<selenium.webdriver.remote.webelement.WebElement (session=\"65d864569edbcdf5986658e881958bf4\", element=\"f.E6A425C825092B767CD39C244896D022.d.BA753BA78E90B25CEE51779C4F9063EF.e.34\")>,\n",
       " <selenium.webdriver.remote.webelement.WebElement (session=\"65d864569edbcdf5986658e881958bf4\", element=\"f.E6A425C825092B767CD39C244896D022.d.BA753BA78E90B25CEE51779C4F9063EF.e.35\")>,\n",
       " <selenium.webdriver.remote.webelement.WebElement (session=\"65d864569edbcdf5986658e881958bf4\", element=\"f.E6A425C825092B767CD39C244896D022.d.BA753BA78E90B25CEE51779C4F9063EF.e.36\")>,\n",
       " <selenium.webdriver.remote.webelement.WebElement (session=\"65d864569edbcdf5986658e881958bf4\", element=\"f.E6A425C825092B767CD39C244896D022.d.BA753BA78E90B25CEE51779C4F9063EF.e.37\")>,\n",
       " <selenium.webdriver.remote.webelement.WebElement (session=\"65d864569edbcdf5986658e881958bf4\", element=\"f.E6A425C825092B767CD39C244896D022.d.BA753BA78E90B25CEE51779C4F9063EF.e.38\")>,\n",
       " <selenium.webdriver.remote.webelement.WebElement (session=\"65d864569edbcdf5986658e881958bf4\", element=\"f.E6A425C825092B767CD39C244896D022.d.BA753BA78E90B25CEE51779C4F9063EF.e.39\")>,\n",
       " <selenium.webdriver.remote.webelement.WebElement (session=\"65d864569edbcdf5986658e881958bf4\", element=\"f.E6A425C825092B767CD39C244896D022.d.BA753BA78E90B25CEE51779C4F9063EF.e.40\")>,\n",
       " <selenium.webdriver.remote.webelement.WebElement (session=\"65d864569edbcdf5986658e881958bf4\", element=\"f.E6A425C825092B767CD39C244896D022.d.BA753BA78E90B25CEE51779C4F9063EF.e.41\")>,\n",
       " <selenium.webdriver.remote.webelement.WebElement (session=\"65d864569edbcdf5986658e881958bf4\", element=\"f.E6A425C825092B767CD39C244896D022.d.BA753BA78E90B25CEE51779C4F9063EF.e.42\")>,\n",
       " <selenium.webdriver.remote.webelement.WebElement (session=\"65d864569edbcdf5986658e881958bf4\", element=\"f.E6A425C825092B767CD39C244896D022.d.BA753BA78E90B25CEE51779C4F9063EF.e.43\")>]"
      ]
     },
     "execution_count": 17,
     "metadata": {},
     "output_type": "execute_result"
    }
   ],
   "source": [
    "## 검색결과 페이지가 로딩될때까지 대기\n",
    "WebDriverWait(driver, 20).until(\n",
    "    EC.presence_of_element_located((By.CLASS_NAME, \"Gx5Zad\"))\n",
    ")\n",
    "\n",
    "## 스크랩 부분\n",
    "screenshot_results = driver.find_elements(By.CLASS_NAME, \"Gx5Zad\")\n",
    "screenshot_results"
   ]
  },
  {
   "cell_type": "markdown",
   "metadata": {},
   "source": [
    "### Ch1-3. 원하는 요소 스크린샷 찍기\n",
    "\n",
    "먼저 screenshots 폴더 만들기"
   ]
  },
  {
   "cell_type": "code",
   "execution_count": 18,
   "metadata": {},
   "outputs": [],
   "source": [
    "import time\n",
    "for idx, i in enumerate(screenshot_results):\n",
    "    time.sleep(0.5)\n",
    "    if i.get_attribute(\"class\") == \"Gx5Zad fP1Qef xpd EtOod pkphOe\":\n",
    "        time.sleep(0.5)\n",
    "        screen = i.screenshot(f\"./screentshots/{idx}.png\")"
   ]
  },
  {
   "cell_type": "code",
   "execution_count": 19,
   "metadata": {},
   "outputs": [
    {
     "data": {
      "text/plain": [
       "'c:\\\\Users\\\\USER\\\\Proj_HSA'"
      ]
     },
     "execution_count": 19,
     "metadata": {},
     "output_type": "execute_result"
    }
   ],
   "source": [
    "%pwd # 현재 내 경로가 어디에 있는지를 알려줌"
   ]
  },
  {
   "cell_type": "code",
   "execution_count": 20,
   "metadata": {},
   "outputs": [
    {
     "name": "stdout",
     "output_type": "stream",
     "text": [
      "이번 User-Agent: Mozilla/5.0 (Windows NT 6.2; Win64; x64; rv:51.0) Gecko/20100101 Firefox/51.0\n"
     ]
    }
   ],
   "source": [
    "from selenium import webdriver ## 브라우저를 제어하기 위한 모듈\n",
    "from webdriver_manager.chrome import ChromeDriverManager ## 크롬 드라이버를 자동으로 설치해주는 모듈\n",
    "from selenium.webdriver.chrome.service import Service as ChromeService ## 크롬 브라우저 제어\n",
    "from selenium.webdriver.support.wait import WebDriverWait ## 웹 페이지가 로딩될 때까지 대기하기 위한 모듈\n",
    "from selenium.webdriver.support import expected_conditions as EC ## 대기 조건을 설정하기 위한 모듈\n",
    "from selenium.webdriver.common.by import By ## 웹 요소를 선택하기 위한 모듈\n",
    "from selenium.webdriver.common.keys import Keys ## 키보드 입력을 위한 모듈\n",
    "import time\n",
    "from user_agent import generate_user_agent, generate_navigator\n",
    "user_agent = generate_user_agent()\n",
    "print(\"이번 User-Agent:\", user_agent)\n",
    "\n",
    "options = webdriver.ChromeOptions()\n",
    "\n",
    "## ✅ User-Agent가 변경될때마다 class명이 변경되는 경우가 있음\n",
    "## 가짜 User-Agent 실행 \n",
    "user_agent = '''Mozilla/5.0 (Windows NT 6.2; WOW64; rv:45.0) Gecko/20100101 Firefox/45.0'''\n",
    "options.add_argument(\n",
    "    f\"user-agent={user_agent}\"\n",
    ") \n",
    "\n",
    "\n",
    "driver = webdriver.Chrome(\n",
    "    service=ChromeService(ChromeDriverManager().install()), options=options\n",
    ") ## 크롬드라이버를 설치하고 옵션을 적용하여 실행\n",
    "driver.get(\"https://news.naver.com/\")"
   ]
  },
  {
   "cell_type": "code",
   "execution_count": 21,
   "metadata": {},
   "outputs": [],
   "source": [
    "driver.maximize_window()"
   ]
  },
  {
   "cell_type": "code",
   "execution_count": 22,
   "metadata": {},
   "outputs": [
    {
     "data": {
      "text/plain": [
       "927"
      ]
     },
     "execution_count": 22,
     "metadata": {},
     "output_type": "execute_result"
    }
   ],
   "source": [
    "## 브라우저의 Y축 길이를 가져옴\n",
    "browser_height = driver.execute_script(\"return window.innerHeight\")\n",
    "browser_height"
   ]
  },
  {
   "cell_type": "code",
   "execution_count": 23,
   "metadata": {},
   "outputs": [
    {
     "data": {
      "text/plain": [
       "5217"
      ]
     },
     "execution_count": 23,
     "metadata": {},
     "output_type": "execute_result"
    }
   ],
   "source": [
    "## 스크롤 가능한 Y축 길이 측정\n",
    "total_height = driver.execute_script(\"return document.body.scrollHeight\")\n",
    "total_height"
   ]
  },
  {
   "cell_type": "code",
   "execution_count": 24,
   "metadata": {},
   "outputs": [],
   "source": [
    "## 브라우저 최상단으로 이동\n",
    "driver.execute_script(\"window.scrollTo(0, 0);\")"
   ]
  },
  {
   "cell_type": "code",
   "execution_count": 25,
   "metadata": {},
   "outputs": [],
   "source": [
    "scroll_count = total_height // browser_height + 1"
   ]
  },
  {
   "cell_type": "code",
   "execution_count": 26,
   "metadata": {},
   "outputs": [
    {
     "name": "stdout",
     "output_type": "stream",
     "text": [
      "스크롤 횟수: 6 현재 1\n",
      "스크롤 횟수: 6 현재 2\n",
      "스크롤 횟수: 6 현재 3\n",
      "스크롤 횟수: 6 현재 4\n",
      "스크롤 횟수: 6 현재 5\n",
      "스크롤 횟수: 6 현재 6\n"
     ]
    }
   ],
   "source": [
    "for i in range(scroll_count):\n",
    "    cnt = i +1\n",
    "    print(\"스크롤 횟수:\", scroll_count, \"현재\", cnt )\n",
    "    driver.execute_script(f\"window.scrollTo(0, {browser_height*i});\")\n",
    "    time.sleep(2)"
   ]
  },
  {
   "cell_type": "code",
   "execution_count": 27,
   "metadata": {},
   "outputs": [
    {
     "name": "stdout",
     "output_type": "stream",
     "text": [
      "브라우저의 Y축 길이: 927\n",
      "브라우저의 크기 변경: 320 927\n",
      "브라우저 최상단 이동\n",
      "브라우저 크기: x:320 y:927, 전체 Y축 길이: 5126\n",
      "스크롤 횟수: 6\n",
      "스크롤 횟수: 6 현재 1\n",
      "스크롤 횟수: 6 현재 2\n",
      "스크롤 횟수: 6 현재 3\n",
      "스크롤 횟수: 6 현재 4\n",
      "스크롤 횟수: 6 현재 5\n",
      "스크롤 횟수: 6 현재 6\n",
      "브라우저의 Y축 길이: 927\n",
      "브라우저의 크기 변경: 480 927\n",
      "브라우저 최상단 이동\n",
      "브라우저 크기: x:480 y:927, 전체 Y축 길이: 5126\n",
      "스크롤 횟수: 6\n",
      "스크롤 횟수: 6 현재 1\n",
      "스크롤 횟수: 6 현재 2\n",
      "스크롤 횟수: 6 현재 3\n",
      "스크롤 횟수: 6 현재 4\n",
      "스크롤 횟수: 6 현재 5\n",
      "스크롤 횟수: 6 현재 6\n",
      "브라우저의 Y축 길이: 927\n",
      "브라우저의 크기 변경: 960 927\n",
      "브라우저 최상단 이동\n",
      "브라우저 크기: x:960 y:927, 전체 Y축 길이: 3300\n",
      "스크롤 횟수: 4\n",
      "스크롤 횟수: 4 현재 1\n",
      "스크롤 횟수: 4 현재 2\n",
      "스크롤 횟수: 4 현재 3\n",
      "스크롤 횟수: 4 현재 4\n",
      "브라우저의 Y축 길이: 927\n",
      "브라우저의 크기 변경: 1366 927\n",
      "브라우저 최상단 이동\n",
      "브라우저 크기: x:1366 y:927, 전체 Y축 길이: 5386\n",
      "스크롤 횟수: 6\n",
      "스크롤 횟수: 6 현재 1\n",
      "스크롤 횟수: 6 현재 2\n",
      "스크롤 횟수: 6 현재 3\n",
      "스크롤 횟수: 6 현재 4\n",
      "스크롤 횟수: 6 현재 5\n",
      "스크롤 횟수: 6 현재 6\n",
      "브라우저의 Y축 길이: 927\n",
      "브라우저의 크기 변경: 1920 927\n",
      "브라우저 최상단 이동\n",
      "브라우저 크기: x:1920 y:927, 전체 Y축 길이: 5386\n",
      "스크롤 횟수: 6\n",
      "스크롤 횟수: 6 현재 1\n",
      "스크롤 횟수: 6 현재 2\n",
      "스크롤 횟수: 6 현재 3\n",
      "스크롤 횟수: 6 현재 4\n",
      "스크롤 횟수: 6 현재 5\n",
      "스크롤 횟수: 6 현재 6\n"
     ]
    }
   ],
   "source": [
    "sizes = [320, 480, 960, 1366, 1920]\n",
    "## 브라우저의 Y축 길이를 가져옴\n",
    "browser_height = driver.execute_script(\"return window.innerHeight\")\n",
    "\n",
    "for size in sizes:    \n",
    "    time.sleep(1)\n",
    "    print(\"브라우저의 Y축 길이:\", browser_height)\n",
    "\n",
    "    ## 브라우저의 크기를 변경\n",
    "    driver.set_window_size(size, browser_height)\n",
    "    print(\"브라우저의 크기 변경:\", size, browser_height)\n",
    "    time.sleep(1)\n",
    "\n",
    "    ## 브라우저 최상단으로 이동\n",
    "    driver.execute_script(\"window.scrollTo(0, 0);\")\n",
    "    time.sleep(1)\n",
    "    print(\"브라우저 최상단 이동\")\n",
    "\n",
    "    ## 전체 Y축 길이 측정\n",
    "    total_height = driver.execute_script(\"return document.body.scrollHeight\")\n",
    "    print(f\"브라우저 크기: x:{size} y:{browser_height}, 전체 Y축 길이: {total_height}\")\n",
    "    scroll_count = total_height // browser_height + 1\n",
    "    print(f\"스크롤 횟수: {scroll_count}\")\n",
    "    \n",
    "    for i in range(scroll_count):\n",
    "        cnt = i +1\n",
    "        print(\"스크롤 횟수:\", scroll_count, \"현재\", cnt )\n",
    "        driver.execute_script(f\"window.scrollTo(0, {browser_height*i});\")\n",
    "        ## 전체화면 스크린샷 저장\n",
    "        driver.save_screenshot(f\"./screentshots/{size}_{cnt}.png\")\n",
    "        time.sleep(2)\n",
    "\n",
    "driver.quit()"
   ]
  },
  {
   "cell_type": "code",
   "execution_count": null,
   "metadata": {},
   "outputs": [],
   "source": []
  }
 ],
 "metadata": {
  "kernelspec": {
   "display_name": "venv",
   "language": "python",
   "name": "python3"
  },
  "language_info": {
   "codemirror_mode": {
    "name": "ipython",
    "version": 3
   },
   "file_extension": ".py",
   "mimetype": "text/x-python",
   "name": "python",
   "nbconvert_exporter": "python",
   "pygments_lexer": "ipython3",
   "version": "3.9.6"
  }
 },
 "nbformat": 4,
 "nbformat_minor": 2
}
