{
  "cells": [
    {
      "cell_type": "markdown",
      "metadata": {
        "id": "bVVQWECOTBMj"
      },
      "source": [
        "# 프로젝트명 : 1주차 제조데이터 실습코드\n",
        "\n",
        "### 📌 프로젝트 소개\n",
        "\n",
        "- 제품 및 공장의 불량률을 나타내는 제조 데이터는 민감한 정보이므로 기업이 공개적으로 공유하지 않는 경우가 많습니다.\n",
        "- 그럼에도 불구하고 제조 공정의 불량률을 줄이거나 개선하는 데 도움이 될 수 있으므로 중요한 데이터입니다.\n",
        "- 실제로 현장에서의 목표는 일반적인 데이터 분석처럼 단순히 고성능 예측 모델을 개발하는 것이 아닙니다. 대신 `어떤 요인이 결함에 영향을 미치는지 이해하고 이를 줄이기 위한 효과적인 전략을 결정`하는 데 중점을 둡니다.\n",
        "- 따라서 데이터 분석가의 임무는 `다양한 데이터를 분석하고 제품 불량 발생률을 줄일 수 있는 솔루션을 제공`하는 것입니다.\n",
        "\n",
        "\n",
        "### ✅ 데이터 안내\n",
        "- 본 실습에 사용된 데이터는 실제 제조과정에서 나온 데이터로 익명처리되어 어느 회사의 제품인지 식별이 불가능합니다.\n",
        "- 제조업 데이터를 다루다 보면 제조업 분야에서 흔히 발생하는 `데이터 불균형`을 자주 접하게 됩니다.\n",
        "- 비식별화된 제조 데이터에서 `종속변수 Y`는 `제품의 불량 여부`를 나타냅니다.\n",
        "- X로 표시된 나머지 변수는 독립변수입니다.\n",
        "|\n",
        "\n",
        "\n",
        "![워크플로우](https://file.notion.so/f/f/4e4750b9-2973-47f2-9fe5-8330ce1f2c19/475398a6-c3b8-4335-aa31-21706433bb30/%E1%84%91%E1%85%B3%E1%84%85%E1%85%A6%E1%84%8B%E1%85%B5%E1%86%B7%E1%84%8B%E1%85%AF%E1%84%8F%E1%85%B3.png?id=394533fb-064a-49a7-b2a8-8ef44889237d&table=block&spaceId=4e4750b9-2973-47f2-9fe5-8330ce1f2c19&expirationTimestamp=1715745600000&signature=6FQpuNkoG-UJfp-FiIfFnwlPC7A7iDe-0RR1PbO-ixg&downloadName=%E1%84%91%E1%85%B3%E1%84%85%E1%85%A6%E1%84%8B%E1%85%B5%E1%86%B7%E1%84%8B%E1%85%AF%E1%84%8F%E1%85%B3.png)\n",
        "\n"
      ]
    },
    {
      "cell_type": "markdown",
      "metadata": {
        "id": "KK_B4LyOW1Dc"
      },
      "source": [
        "### 데이터"
      ]
    },
    {
      "cell_type": "code",
      "execution_count": 8,
      "metadata": {
        "colab": {
          "base_uri": "https://localhost:8080/"
        },
        "id": "dOL4UudZS76S",
        "outputId": "fdf2746f-808d-4d6d-9b82-84537cce8278"
      },
      "outputs": [
        {
          "ename": "SyntaxError",
          "evalue": "(unicode error) 'unicodeescape' codec can't decode bytes in position 2-3: truncated \\UXXXXXXXX escape (3992917531.py, line 4)",
          "output_type": "error",
          "traceback": [
            "\u001b[1;36m  Cell \u001b[1;32mIn[8], line 4\u001b[1;36m\u001b[0m\n\u001b[1;33m    data = pd.read_csv(\"C:\\Users\\USER\\Desktop\\ssua\\data\\1주_실습데이터.csv\")\u001b[0m\n\u001b[1;37m                                                                     ^\u001b[0m\n\u001b[1;31mSyntaxError\u001b[0m\u001b[1;31m:\u001b[0m (unicode error) 'unicodeescape' codec can't decode bytes in position 2-3: truncated \\UXXXXXXXX escape\n"
          ]
        }
      ],
      "source": [
        "# 1이 불량\n",
        "# 0이 정\n",
        "import pandas as pd\n",
        "data = pd.read_csv(\"C:\\Users\\USER\\Desktop\\ssua\\data\\1주_실습데이터.csv\")\n",
        "print(data.head())\n",
        "print(data.tail())"
      ]
    },
    {
      "cell_type": "markdown",
      "metadata": {
        "id": "kNgbpMSLW2dW"
      },
      "source": [
        "# 결측치 있는 행 삭제"
      ]
    },
    {
      "cell_type": "code",
      "execution_count": 15,
      "metadata": {
        "colab": {
          "base_uri": "https://localhost:8080/"
        },
        "id": "g74VAYrlT6X2",
        "outputId": "3570aac6-bcd7-4be4-e223-2f57f81d8c3d"
      },
      "outputs": [
        {
          "name": "stdout",
          "output_type": "stream",
          "text": [
            "<class 'pandas.core.frame.DataFrame'>\n",
            "RangeIndex: 427974 entries, 0 to 427973\n",
            "Data columns (total 21 columns):\n",
            " #   Column  Non-Null Count   Dtype  \n",
            "---  ------  --------------   -----  \n",
            " 0   X1      427974 non-null  float64\n",
            " 1   X2      427974 non-null  float64\n",
            " 2   X3      427974 non-null  float64\n",
            " 3   X4      427974 non-null  float64\n",
            " 4   X5      427974 non-null  float64\n",
            " 5   X6      427974 non-null  float64\n",
            " 6   X7      427974 non-null  float64\n",
            " 7   X8      427974 non-null  float64\n",
            " 8   X9      427974 non-null  float64\n",
            " 9   X10     427974 non-null  float64\n",
            " 10  X11     427974 non-null  float64\n",
            " 11  X12     427974 non-null  float64\n",
            " 12  X13     427974 non-null  float64\n",
            " 13  X14     427974 non-null  float64\n",
            " 14  X15     427974 non-null  float64\n",
            " 15  X16     427974 non-null  float64\n",
            " 16  X17     427974 non-null  float64\n",
            " 17  X18     427973 non-null  float64\n",
            " 18  X19     427973 non-null  float64\n",
            " 19  X20     427973 non-null  float64\n",
            " 20  Y       427973 non-null  float64\n",
            "dtypes: float64(21)\n",
            "memory usage: 68.6 MB\n",
            "None\n",
            "<class 'pandas.core.frame.DataFrame'>\n",
            "Index: 427973 entries, 0 to 427972\n",
            "Data columns (total 21 columns):\n",
            " #   Column  Non-Null Count   Dtype  \n",
            "---  ------  --------------   -----  \n",
            " 0   X1      427973 non-null  float64\n",
            " 1   X2      427973 non-null  float64\n",
            " 2   X3      427973 non-null  float64\n",
            " 3   X4      427973 non-null  float64\n",
            " 4   X5      427973 non-null  float64\n",
            " 5   X6      427973 non-null  float64\n",
            " 6   X7      427973 non-null  float64\n",
            " 7   X8      427973 non-null  float64\n",
            " 8   X9      427973 non-null  float64\n",
            " 9   X10     427973 non-null  float64\n",
            " 10  X11     427973 non-null  float64\n",
            " 11  X12     427973 non-null  float64\n",
            " 12  X13     427973 non-null  float64\n",
            " 13  X14     427973 non-null  float64\n",
            " 14  X15     427973 non-null  float64\n",
            " 15  X16     427973 non-null  float64\n",
            " 16  X17     427973 non-null  float64\n",
            " 17  X18     427973 non-null  float64\n",
            " 18  X19     427973 non-null  float64\n",
            " 19  X20     427973 non-null  float64\n",
            " 20  Y       427973 non-null  float64\n",
            "dtypes: float64(21)\n",
            "memory usage: 71.8 MB\n",
            "None\n"
          ]
        }
      ],
      "source": [
        "df = data.dropna(how = 'any', axis = 0)\n",
        "print(data.info())\n",
        "print(df.info())"
      ]
    },
    {
      "cell_type": "code",
      "execution_count": null,
      "metadata": {
        "id": "ywN8HpvMYp-1"
      },
      "outputs": [],
      "source": []
    }
  ],
  "metadata": {
    "colab": {
      "provenance": []
    },
    "kernelspec": {
      "display_name": "Python 3",
      "name": "python3"
    },
    "language_info": {
      "codemirror_mode": {
        "name": "ipython",
        "version": 3
      },
      "file_extension": ".py",
      "mimetype": "text/x-python",
      "name": "python",
      "nbconvert_exporter": "python",
      "pygments_lexer": "ipython3",
      "version": "3.9.6"
    }
  },
  "nbformat": 4,
  "nbformat_minor": 0
}
